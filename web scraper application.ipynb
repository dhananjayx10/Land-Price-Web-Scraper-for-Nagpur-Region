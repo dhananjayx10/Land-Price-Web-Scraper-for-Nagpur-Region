{
 "cells": [
  {
   "cell_type": "code",
   "execution_count": 2,
   "id": "acfd1073-1d22-457a-9552-1ef3a59df8db",
   "metadata": {},
   "outputs": [
    {
     "name": "stdout",
     "output_type": "stream",
     "text": [
      "STARTING WEB SCRAPER FOR NAGPUR LAND PRICES ON MAGICBRICKS...\n",
      "DATA SAVED TO NAGPUR_LAND_PRICES_MAGICBRICKS.csv\n",
      "SCRAPING COMPLETED SUCCESSFULLY!\n"
     ]
    }
   ],
   "source": [
    "import requests\n",
    "from bs4 import BeautifulSoup\n",
    "import pandas as pd\n",
    "import time\n",
    "from requests.adapters import HTTPAdapter\n",
    "from requests.packages.urllib3.util.retry import Retry\n",
    "from datetime import datetime\n",
    "\n",
    "def scrape_land_prices_requests():\n",
    "    # URL for land/property listings in Nagpur\n",
    "    url = \"https://www.magicbricks.com/property-for-sale-in-nagpur-pppfs\"\n",
    "\n",
    "    # Set headers to mimic a real browser request\n",
    "    headers = {\n",
    "        \"User-Agent\": \"Mozilla/5.0 (Windows NT 10.0; Win64; x64) AppleWebKit/537.36 (KHTML, like Gecko) Chrome/91.0.4472.124 Safari/537.36\"\n",
    "    }\n",
    "\n",
    "    # Create a session with retry logic\n",
    "    session = requests.Session()\n",
    "    retries = Retry(\n",
    "        total=3,                      # Max retry attempts\n",
    "        backoff_factor=1,             # Delay between retries\n",
    "        status_forcelist=[429, 500, 502, 503, 504]  # Retry on these status codes\n",
    "    )\n",
    "    session.mount('https://', HTTPAdapter(max_retries=retries))\n",
    "\n",
    "    try:\n",
    "        # Make a GET request to the website\n",
    "        response = session.get(url, headers=headers, timeout=30)\n",
    "        response.raise_for_status()  # Raise exception if request fails\n",
    "\n",
    "        # Parse the HTML content\n",
    "        soup = BeautifulSoup(response.text, 'html.parser')\n",
    "\n",
    "        # Find all property cards (update class name if needed)\n",
    "        listings = soup.find_all('div', class_='mb-srp__card')\n",
    "\n",
    "        # Dictionary to store scraped data\n",
    "        data = {\n",
    "            \"LOCATION\": [],\n",
    "            \"PRICE\": [],\n",
    "            \"SIZE\": [],\n",
    "            \"DATE\": []\n",
    "        }\n",
    "\n",
    "        # Get today's date to use as fallback\n",
    "        current_date = datetime.now().strftime('%Y-%m-%d')\n",
    "\n",
    "        # Extract details from each listing\n",
    "        for listing in listings:\n",
    "            location = listing.find('h2', class_='mb-srp__card--title')\n",
    "            location = location.text.strip() if location else \"N/A\"\n",
    "\n",
    "            price = listing.find('div', class_='mb-srp__card__price--amount')\n",
    "            price = price.text.strip().replace('₹', '') if price else \"N/A\"\n",
    "\n",
    "            size = listing.find('div', class_='mb-srp__card__summary--value')\n",
    "            size = size.text.strip() if size else \"N/A\"\n",
    "\n",
    "            date = listing.find('div', class_='mb-srp__card__date')\n",
    "            date = date.text.strip() if date else current_date\n",
    "\n",
    "            data[\"LOCATION\"].append(location)\n",
    "            data[\"PRICE\"].append(price)\n",
    "            data[\"SIZE\"].append(size)\n",
    "            data[\"DATE\"].append(date)\n",
    "\n",
    "        # Convert to DataFrame\n",
    "        df = pd.DataFrame(data)\n",
    "\n",
    "        # Save to CSV\n",
    "        df.to_csv('NAGPUR_LAND_PRICES_MAGICBRICKS.csv', index=False, encoding='utf-8')\n",
    "        print(\"DATA SAVED TO NAGPUR_LAND_PRICES_MAGICBRICKS.csv\")\n",
    "\n",
    "        return df\n",
    "\n",
    "    except Exception as e:\n",
    "        print(f\"ERROR OCCURRED: {e}\")\n",
    "        return None\n",
    "\n",
    "# Script entry point\n",
    "if __name__ == \"__main__\":\n",
    "    print(\"STARTING WEB SCRAPER FOR NAGPUR LAND PRICES ON MAGICBRICKS...\")\n",
    "    df = scrape_land_prices_requests()\n",
    "\n",
    "    if df is None:\n",
    "        print(\"SCRAPING FAILED. PLEASE CHECK THE SITE STRUCTURE OR YOUR CONNECTION.\")\n",
    "    else:\n",
    "        print(\"SCRAPING COMPLETED SUCCESSFULLY!\")\n"
   ]
  },
  {
   "cell_type": "code",
   "execution_count": null,
   "id": "92bdb80b-41d7-4c04-97c7-957f6d642458",
   "metadata": {},
   "outputs": [],
   "source": []
  }
 ],
 "metadata": {
  "kernelspec": {
   "display_name": "Python 3 (ipykernel)",
   "language": "python",
   "name": "python3"
  },
  "language_info": {
   "codemirror_mode": {
    "name": "ipython",
    "version": 3
   },
   "file_extension": ".py",
   "mimetype": "text/x-python",
   "name": "python",
   "nbconvert_exporter": "python",
   "pygments_lexer": "ipython3",
   "version": "3.13.5"
  },
  "widgets": {
   "application/vnd.jupyter.widget-state+json": {
    "state": {},
    "version_major": 2,
    "version_minor": 0
   }
  }
 },
 "nbformat": 4,
 "nbformat_minor": 5
}
